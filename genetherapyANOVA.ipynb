{
 "cells": [
  {
   "cell_type": "markdown",
   "metadata": {},
   "source": [
    "# Однофакторный дисперсионный анализ\n",
    "Генотерапия позволяет корректировать работу дефективного гена, ответственного за развитие заболевания. В эксперименте сравнивалась эффективность четырёх различных типов терапии - А, B, C, D.\n",
    "В исходной таблице:\n",
    "Therapy - группа терапии.\n",
    "expr - уровень экспрессии.\n",
    "\n",
    "Нужно сравнить средний уровень экспрессии гена групп между собой.\n",
    "\n",
    "Гипотеза H0 - средний уровень экспресси гена будет абсолютно одинаковый при использовании всех 4-х типов терапии."
   ]
  },
  {
   "cell_type": "code",
   "execution_count": 2,
   "metadata": {},
   "outputs": [],
   "source": [
    "#Импорты\n",
    "import pandas as pd\n",
    "from scipy import stats \n",
    "import matplotlib.pyplot as plt"
   ]
  },
  {
   "cell_type": "code",
   "execution_count": 3,
   "metadata": {},
   "outputs": [],
   "source": [
    "#Загрузка датасета и привидение данных в читаемый вид. \n",
    "data = pd.read_csv('genetherapy.csv')\n",
    "therapy_names = {\n",
    "    'A': 'Терапия А',\n",
    "    'B': 'Терапия B',\n",
    "    'C': 'Терапия C',\n",
    "    'D': 'Терапия D'\n",
    "    }\n",
    "data = data.replace(therapy_names)"
   ]
  },
  {
   "cell_type": "code",
   "execution_count": 11,
   "metadata": {},
   "outputs": [
    {
     "name": "stdout",
     "output_type": "stream",
     "text": [
      "F-значение групп:  8.03730248114399\n",
      "p-value такого F-значения:  0.00015249722895229536\n",
      "Значит как минимум 2 средних значимо отличаются между собой\n"
     ]
    }
   ],
   "source": [
    "#Разбили данные по группам и посчитали \n",
    "A = data[data[\"Therapy\"] == \"Терапия А\"][\"expr\"]\n",
    "B = data[data[\"Therapy\"] == \"Терапия B\"][\"expr\"]\n",
    "C = data[data[\"Therapy\"] == \"Терапия C\"][\"expr\"]\n",
    "D = data[data[\"Therapy\"] == \"Терапия D\"][\"expr\"]\n",
    "F, p = stats.f_oneway(A, B, C, D)\n",
    "print(\"F-значение групп: \", F)\n",
    "print(\"p-value такого F-значения: \",p)\n",
    "print(\"Значит как минимум 2 средних значимо отличаются между собой\")"
   ]
  },
  {
   "cell_type": "code",
   "execution_count": 6,
   "metadata": {},
   "outputs": [
    {
     "data": {
      "text/html": [
       "<div>\n",
       "<style scoped>\n",
       "    .dataframe tbody tr th:only-of-type {\n",
       "        vertical-align: middle;\n",
       "    }\n",
       "\n",
       "    .dataframe tbody tr th {\n",
       "        vertical-align: top;\n",
       "    }\n",
       "\n",
       "    .dataframe thead th {\n",
       "        text-align: right;\n",
       "    }\n",
       "</style>\n",
       "<table border=\"1\" class=\"dataframe\">\n",
       "  <thead>\n",
       "    <tr style=\"text-align: right;\">\n",
       "      <th></th>\n",
       "      <th>Mx</th>\n",
       "      <th>SE</th>\n",
       "      <th>N</th>\n",
       "      <th>interval</th>\n",
       "    </tr>\n",
       "    <tr>\n",
       "      <th>Therapy</th>\n",
       "      <th></th>\n",
       "      <th></th>\n",
       "      <th></th>\n",
       "      <th></th>\n",
       "    </tr>\n",
       "  </thead>\n",
       "  <tbody>\n",
       "    <tr>\n",
       "      <th>Терапия А</th>\n",
       "      <td>99.733333</td>\n",
       "      <td>1.075558</td>\n",
       "      <td>15</td>\n",
       "      <td>2.151116</td>\n",
       "    </tr>\n",
       "    <tr>\n",
       "      <th>Терапия B</th>\n",
       "      <td>98.800000</td>\n",
       "      <td>1.521904</td>\n",
       "      <td>15</td>\n",
       "      <td>3.043807</td>\n",
       "    </tr>\n",
       "    <tr>\n",
       "      <th>Терапия C</th>\n",
       "      <td>94.400000</td>\n",
       "      <td>1.340931</td>\n",
       "      <td>15</td>\n",
       "      <td>2.681861</td>\n",
       "    </tr>\n",
       "    <tr>\n",
       "      <th>Терапия D</th>\n",
       "      <td>92.333333</td>\n",
       "      <td>0.964447</td>\n",
       "      <td>15</td>\n",
       "      <td>1.928895</td>\n",
       "    </tr>\n",
       "  </tbody>\n",
       "</table>\n",
       "</div>"
      ],
      "text/plain": [
       "                  Mx        SE   N  interval\n",
       "Therapy                                     \n",
       "Терапия А  99.733333  1.075558  15  2.151116\n",
       "Терапия B  98.800000  1.521904  15  3.043807\n",
       "Терапия C  94.400000  1.340931  15  2.681861\n",
       "Терапия D  92.333333  0.964447  15  1.928895"
      ]
     },
     "execution_count": 6,
     "metadata": {},
     "output_type": "execute_result"
    }
   ],
   "source": [
    "#Подготовим данные для графика доверительных интервалов. Посчитаем среднее, стандартную ошибку и колличество элементов.\n",
    "groups = data.groupby('Therapy')['expr'].agg(['mean','sem','count'])\n",
    "groups.columns = ['Mx','SE','N']\n",
    "groups['interval'] = 2 * groups['SE']\n",
    "groups = groups.sort_values(by = ['Mx'], ascending=False)\n",
    "groups"
   ]
  },
  {
   "cell_type": "code",
   "execution_count": 7,
   "metadata": {},
   "outputs": [],
   "source": [
    "#Межгрупповые и внутригрупповые суммы квадратов\n",
    "ssb_df = len(groups) - 1\n",
    "ssw_df = data.shape[0] - len(groups)"
   ]
  },
  {
   "cell_type": "code",
   "execution_count": 8,
   "metadata": {},
   "outputs": [
    {
     "name": "stdout",
     "output_type": "stream",
     "text": [
      "F ( 3 , 56 ) = 8.04 , p = 0.0002\n"
     ]
    },
    {
     "data": {
      "image/png": "[encoded data removed]",
      "text/plain": [
       "<Figure size 432x288 with 1 Axes>"
      ]
     },
     "metadata": {
      "needs_background": "light"
     },
     "output_type": "display_data"
    }
   ],
   "source": [
    "#Сам график\n",
    "plt.title('Уровень экспрессии гена при различной терапии')\n",
    "plt.ylabel('Уровень экспрессии')\n",
    "plt.errorbar(x=groups.index, y=groups['Mx'], yerr = groups['interval'],\n",
    "                        color=\"black\", capsize=3, marker=\"s\", markersize=4, mfc=\"red\", mec=\"black\")\n",
    "print('F (',ssb_df,',',ssw_df,') =',round(F,2),\", p =\",round(p,4))"
   ]
  },
  {
   "cell_type": "markdown",
   "metadata": {},
   "source": [
    "Значит, терапии A и B каким то образом значимо справляются с терапией чем группы C и D.\n",
    "Попробуем дальше возпользоваться критерием Тьюки для того, чтобы расчитать доверительный интервал разницы между всеми парами групп терапии.\n",
    "\n",
    "Таким образом мы сможем понять какая конкретная пара групп значимо различается между собой."
   ]
  },
  {
   "cell_type": "code",
   "execution_count": 9,
   "metadata": {},
   "outputs": [
    {
     "name": "stdout",
     "output_type": "stream",
     "text": [
      "    Multiple Comparison of Means - Tukey HSD, FWER=0.05    \n",
      "===========================================================\n",
      "  group1    group2  meandiff p-adj   lower    upper  reject\n",
      "-----------------------------------------------------------\n",
      "Терапия B Терапия C     -4.4 0.0712  -9.0628  0.2628  False\n",
      "Терапия B Терапия D  -6.4667 0.0029 -11.1294 -1.8039   True\n",
      "Терапия B Терапия А   0.9333    0.9  -3.7294  5.5961  False\n",
      "Терапия C Терапия D  -2.0667 0.6296  -6.7294  2.5961  False\n",
      "Терапия C Терапия А   5.3333 0.0189   0.6706  9.9961   True\n",
      "Терапия D Терапия А      7.4  0.001   2.7372 12.0628   True\n",
      "-----------------------------------------------------------\n"
     ]
    }
   ],
   "source": [
    "#Импорт библиотеки для расчета и передача данных для анализа в метод множественного сравнения\n",
    "from statsmodels.stats.multicomp import (pairwise_tukeyhsd, MultiComparison)\n",
    "MultiComp = MultiComparison(data['expr'], data['Therapy'])\n",
    "print(MultiComp.tukeyhsd().summary())"
   ]
  },
  {
   "cell_type": "code",
   "execution_count": 11,
   "metadata": {},
   "outputs": [
    {
     "data": {
      "text/plain": [
       "Text(0.5, 1.0, '95% family-wise confidence level')"
      ]
     },
     "execution_count": 11,
     "metadata": {},
     "output_type": "execute_result"
    },
    {
     "data": {
      "image/png": "[encoded data removed]",
      "text/plain": [
       "<Figure size 432x288 with 1 Axes>"
      ]
     },
     "metadata": {
      "needs_background": "light"
     },
     "output_type": "display_data"
    }
   ],
   "source": [
    "Tukey_data = MultiComp.tukeyhsd()._results_table.data\n",
    "Tukey_df = pd.DataFrame(Tukey_data[1:], columns=Tukey_data[0])\n",
    "\n",
    "Tukey_df['category'] = Tukey_df['group1'] + ['-'] * len(Tukey_df) + Tukey_df['group2']\n",
    "Tukey_df['orderby'] = range(len(Tukey_df), 0, -1)\n",
    "\n",
    "for lower, upper, meandiff, y in zip(Tukey_df['lower'], Tukey_df['upper'], Tukey_df['meandiff'], Tukey_df['orderby']):\n",
    "    plt.plot((lower, upper),(y, y), '|-', color='black')\n",
    "    plt.plot(meandiff, y ,'|-', color='black')\n",
    "    \n",
    "plt.yticks(Tukey_df['orderby'], Tukey_df['category'])\n",
    "plt.vlines(0, Tukey_df['orderby'].min() - 0.5, Tukey_df['orderby'].max() + 0.5, linestyles='dashed', color='gray')\n",
    "plt.title('95% family-wise confidence level')"
   ]
  },
  {
   "cell_type": "markdown",
   "metadata": {},
   "source": [
    "Благодаря критерию Тьюки видно, что под вопрос встала значимость различий между парами B и C. p-value этой пары тоже находится на границе и составляет 0,07. Это больше 0.05, значит мы не можем отклонить нулевую гипотезу в данном случае.\n",
    "\n",
    "Значимо отличаются следующие пары:\n",
    "- B и D\n",
    "- A и С\n",
    "- A и D"
   ]
  }
 ],
 "metadata": {
  "interpreter": {
   "hash": "61a57a4b5406d2de388e2f91097d4e4bcd7d5f4a46f53a795aa28a02eed27fc5"
  },
  "kernelspec": {
   "display_name": "Python 3.9.7 64-bit ('base': conda)",
   "language": "python",
   "name": "python3"
  },
  "language_info": {
   "codemirror_mode": {
    "name": "ipython",
    "version": 3
   },
   "file_extension": ".py",
   "mimetype": "text/x-python",
   "name": "python",
   "nbconvert_exporter": "python",
   "pygments_lexer": "ipython3",
   "version": "3.9.7"
  },
  "orig_nbformat": 4
 },
 "nbformat": 4,
 "nbformat_minor": 2
}
